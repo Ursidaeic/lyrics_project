import requests
import base64
import pandas as pd
import pickle


# set up and encode client data
client_id = "1c3ac182843d4d1a8bb3d6982cd0a2db"
client_secret = "992d19fba4184b02b95e5284fd9587f8"
client_creds_b64 = f"{client_id}:{client_secret}"
client_creds_b64 = base64.b64encode(client_creds_b64.encode())

# set up request data
token_url = "https://accounts.spotify.com/api/token" 
method = "POST"

token_data = {
    "grant_type": "client_credentials"
}
token_headers = {
    "Authorization": f"Basic {client_creds_b64.decode()}"
}

# make request and retrieve access token
req = requests.post(token_url,data=token_data, headers=token_headers)
token_response_data=req.json()
print(f"Status code: {req.status_code}")

access_token = token_response_data['access_token']
print(f"Access token: {access_token}")


# Get playlists from current user
headers = {
    "Authorization": f"Bearer {access_token}"
}
playlists_url = "https://api.spotify.com/v1/users/smishnub/playlists"

req = requests.get(url = playlists_url, headers = headers)



# Get my playlist "TEST" from my list of playlists 
playlists = req.json()["items"]
for playlist in playlists:
    if playlist['name'] == 'TEST':
        break

# Request to get tracks from that playlist 
tracks_url = playlist['tracks']['href']
tracks_req = requests.get(url = tracks_url, headers = headers)


# Parse Json response into a dictionary of track names and respective artist(s)
names_list = [item['track']['name'] for item in tracks_req.json()['items']]
artists_list = []
for data in tracks_req.json()['items']:
    artist_list = []
    for artist_dict in data['track']['artists']:
        artist_list.append(artist_dict['name'])
    artists_list.append(artist_list)

# Make and pickle tracks dataframe
tracks_df = pd.DataFrame(columns = ['title','artists', 'lyrics'])

tracks_df['title'] = names_list
tracks_df['artists'] = artists_list

tracks_df.to_pickle("./tracks.pkl")  


tracks_df



