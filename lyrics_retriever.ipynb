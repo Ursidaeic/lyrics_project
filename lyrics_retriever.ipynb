{
 "cells": [
  {
   "cell_type": "code",
   "execution_count": 2,
   "id": "11ea8f82-0852-4624-9b3a-3b86f92a40f4",
   "metadata": {},
   "outputs": [],
   "source": [
    "import pandas as pd\n",
    "from getlyrics import az, lcom_artist_searcher\n",
    "from queue import Queue"
   ]
  },
  {
   "cell_type": "code",
   "execution_count": 9,
   "id": "e8ce245a-0088-486b-b06f-f34d93ca8869",
   "metadata": {
    "scrolled": true
   },
   "outputs": [
    {
     "name": "stdout",
     "output_type": "stream",
     "text": [
      "title                       New Bottega\n",
      "artists    [Torren Foot, Azealia Banks]\n",
      "lyrics                              NaN\n",
      "Name: 0, dtype: object\n"
     ]
    }
   ],
   "source": [
    "tracks_df = pd.read_pickle(\"./tracks.pkl\") \n",
    "tracks_df.size\n",
    "\n",
    "for index, row in tracks_df.iterrows():\n",
    "    print(tracks_df.loc[index])\n",
    "    break\n",
    "    \n",
    "    "
   ]
  },
  {
   "cell_type": "code",
   "execution_count": null,
   "id": "151716a6-cf21-4ab8-8ffd-ccf7c2b9f9aa",
   "metadata": {},
   "outputs": [],
   "source": [
    "# Initalise queue and threading\n",
    "q = Queue()\n",
    "thread = threading.Thread(target=az, args=())\n",
    "\n",
    "for index, row in tracks_df.iterrows():\n",
    "    artists = row['artists']\n",
    "    title = row['title']\n",
    "\n",
    "    flag = False\n",
    "    # Search for each listed artist of song supplied by spotyify on lyrics.com \n",
    "    for artist in artists:\n",
    "        \n",
    "        #retrieve list of songs by that artist\n",
    "        song_list = lcom_artist_searcher(artist)\n",
    "        \n",
    "        \n",
    "        # if that artist not found on lyrics.com, first search for the next one (if there is one), then pass it on to azlyrics\n",
    "        if song_list == 0:\n",
    "            if flag == False:\n",
    "                flag = True\n",
    "                continue\n",
    "\n",
    "            for i in range(count):\n",
    "                q.put(row)\n",
    "            \n",
    "            if not thread.is_alive():\n",
    "                thread = threading.Thread(target=az, args=())\n",
    "                thread.start()\n",
    "            \n",
    "        #otherwise,\n",
    "        else:\n",
    "            flag = False\n",
    "            for song in song_list:\n",
    "                #attempts to match to a song from the retrieved song list \n",
    "                if textdistance.jaro_winkler(title, song[0]) >= 0.9:\n",
    "                    match = True\n",
    "\n",
    "                    lyrics = lcom_lyrics(song[1])\n",
    "                    #If the page is empty of lyrics put in AZlyrics queue\n",
    "                    if lyrics == None:\n",
    "                        q.put(row)\n",
    "                        break\n",
    "                    #If another exception is raised (HTTP error), put it in queue\n",
    "                    elif lyrics == 0:\n",
    "                        q.put(row)\n",
    "                        break\n",
    "                    else:\n",
    "                        tracks_df.loc[index]['lyrics'] = lyrics\n",
    "                    break\n",
    "\n",
    "            #if no match for the song is found on lyrics.com, query azlyrics instead\n",
    "            if match == False:\n",
    "                q.put(row)\n",
    "                if not thread.is_alive():\n",
    "                    thread = threading.Thread(target=az, args=())\n",
    "                    thread.start()\n",
    "\n",
    "                "
   ]
  }
 ],
 "metadata": {
  "kernelspec": {
   "display_name": "Python 3 (ipykernel)",
   "language": "python",
   "name": "python3"
  },
  "language_info": {
   "codemirror_mode": {
    "name": "ipython",
    "version": 3
   },
   "file_extension": ".py",
   "mimetype": "text/x-python",
   "name": "python",
   "nbconvert_exporter": "python",
   "pygments_lexer": "ipython3",
   "version": "3.10.5"
  }
 },
 "nbformat": 4,
 "nbformat_minor": 5
}
