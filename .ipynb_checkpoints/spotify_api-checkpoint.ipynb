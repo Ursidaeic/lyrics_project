{
 "cells": [
  {
   "cell_type": "code",
   "execution_count": 1,
   "id": "c8ba0686-d4e9-426a-a795-fe6338e113c9",
   "metadata": {},
   "outputs": [],
   "source": [
    "import requests\n",
    "import base64\n",
    "import pandas as pd"
   ]
  },
  {
   "cell_type": "code",
   "execution_count": 2,
   "id": "993320b1-f382-4e06-9f77-b6c05f3e7a6d",
   "metadata": {},
   "outputs": [
    {
     "name": "stdout",
     "output_type": "stream",
     "text": [
      "Status code: 200\n",
      "Access token: BQBIq7vwGgxzEmSp6racy4Kk9Pafh3APb50Eq1jP0UTTa7nyvVcNJpKzFj69oBUvP_cZ8-gsCaW2vXhZi6QwFbGUhit5b2ohJqjf7Fn9pMMg8J9n9tJBW2qj9IrNB50sYE7zS9WTA8A\n"
     ]
    }
   ],
   "source": [
    "# set up and encode client data\n",
    "client_id = \"1c3ac182843d4d1a8bb3d6982cd0a2db\"\n",
    "client_secret = \"992d19fba4184b02b95e5284fd9587f8\"\n",
    "client_creds_b64 = f\"{client_id}:{client_secret}\"\n",
    "client_creds_b64 = base64.b64encode(client_creds_b64.encode())\n",
    "\n",
    "# set up request data\n",
    "token_url = \"https://accounts.spotify.com/api/token\" \n",
    "method = \"POST\"\n",
    "\n",
    "token_data = {\n",
    "    \"grant_type\": \"client_credentials\"\n",
    "}\n",
    "token_headers = {\n",
    "    \"Authorization\": f\"Basic {client_creds_b64.decode()}\"\n",
    "}\n",
    "\n",
    "# make request and retrieve access token\n",
    "req = requests.post(token_url,data=token_data, headers=token_headers)\n",
    "token_response_data=req.json()\n",
    "print(f\"Status code: {req.status_code}\")\n",
    "\n",
    "access_token = token_response_data['access_token']\n",
    "print(f\"Access token: {access_token}\")"
   ]
  },
  {
   "cell_type": "code",
   "execution_count": 3,
   "id": "e9168f8c-22b0-4f61-abc0-f655fc679d92",
   "metadata": {},
   "outputs": [],
   "source": [
    "# Get playlists from current user\n",
    "headers = {\n",
    "    \"Authorization\": f\"Bearer {access_token}\"\n",
    "}\n",
    "playlists_url = \"https://api.spotify.com/v1/users/smishnub/playlists\"\n",
    "\n",
    "req = requests.get(url = playlists_url, headers = headers)\n"
   ]
  },
  {
   "cell_type": "code",
   "execution_count": 14,
   "id": "ee0b6bf5-4785-4214-ae2c-477dcd853c2d",
   "metadata": {},
   "outputs": [],
   "source": [
    "# Get my playlist \"TEST\" from my list of playlists \n",
    "playlists = req.json()[\"items\"]\n",
    "for playlist in playlists:\n",
    "    if playlist['name'] == 'TEST':\n",
    "        break\n",
    "\n",
    "# Request to get tracks from that playlist \n",
    "tracks_url = playlist['tracks']['href']\n",
    "tracks_req = requests.get(url = tracks_url, headers = headers)"
   ]
  },
  {
   "cell_type": "code",
   "execution_count": null,
   "id": "c91edc68-9049-4f35-a119-9fd1f01e373c",
   "metadata": {},
   "outputs": [],
   "source": []
  },
  {
   "cell_type": "code",
   "execution_count": 84,
   "id": "4e9c9757-3ff4-488e-b385-055286567eed",
   "metadata": {},
   "outputs": [
    {
     "data": {
      "text/plain": [
       "{'New Bottega': ['Torren Foot', 'Azealia Banks'],\n",
       " 'Club classics featuring bb trickz': ['Charli xcx', 'Bb trickz'],\n",
       " 'Baddy On The Floor': ['Jamie xx', 'Honey Dijon'],\n",
       " 'Baianá': ['Nia Archives'],\n",
       " 'Écoute Chérie': ['Vendredi sur Mer'],\n",
       " 'The Adults Are Talking': ['The Strokes'],\n",
       " 'We Are The People': ['Empire Of The Sun'],\n",
       " 'Fine Line': ['Harry Styles'],\n",
       " 'Take Me To Church': ['Hozier'],\n",
       " 'Somewhere Only We Know': ['Keane'],\n",
       " 'Rolling in the Deep': ['Adele'],\n",
       " 'waiting room x fix you': ['get lost stranger'],\n",
       " \"That's Life\": ['Frank Sinatra'],\n",
       " 'Exit Music (For A Film)': ['Radiohead'],\n",
       " \"Can't Take My Eyes off You\": ['Frankie Valli'],\n",
       " 'Please, Please, Please, Let Me Get What I Want - 2011 Remaster': ['The Smiths'],\n",
       " 'Fake ID (Coke & Rum Remix)': ['Riton', 'Kah-Lo', 'GEE LEE'],\n",
       " 'Stephanie': ['Cloonee', 'Young M.A', 'InntRaw'],\n",
       " 'World, Hold On - FISHER Rework': ['Bob Sinclar', 'Steve Edwards', 'FISHER'],\n",
       " 'places to be': ['Fred again..', 'Anderson .Paak', 'CHIKA'],\n",
       " 'Washing Machine Heart': ['Mitski'],\n",
       " 'Treehouse': ['Alex G', 'Emily Yacina'],\n",
       " 'Always Forever': ['Cults'],\n",
       " '212': ['Azealia Banks', 'Lazy Jay'],\n",
       " 'Guess featuring billie eilish': ['Charli xcx', 'Billie Eilish'],\n",
       " 'Girls': ['The Dare'],\n",
       " 'JOYRIDE': ['Kesha'],\n",
       " 'Pink Pony Club': ['Chappell Roan'],\n",
       " \"I've Been In Love\": ['Jungle', 'Channel Tres'],\n",
       " 'Unknown / Nth': ['Hozier'],\n",
       " 'One Night/All Night': ['Justice', 'Tame Impala'],\n",
       " 'Booster Seat': ['Spacey Jane'],\n",
       " 'Adore You': ['Harry Styles'],\n",
       " '3 Nights': ['Dominic Fike'],\n",
       " 'Physical': ['Dua Lipa'],\n",
       " \"Don't Delete The Kisses\": ['Wolf Alice'],\n",
       " \"Somethin' Stupid\": ['Frank Sinatra', 'Nancy Sinatra'],\n",
       " \"We'll Never Have Sex\": ['Leith Ross'],\n",
       " 'Dream A Little Dream Of Me': ['The Mamas & The Papas'],\n",
       " 'Sailor Song': ['Gigi Perez'],\n",
       " 'Breather': ['Jamie xx'],\n",
       " 'Mutations': ['Nilüfer Yanya'],\n",
       " 'Challengers: Match Point': ['Trent Reznor and Atticus Ross'],\n",
       " 'Skin On Skin': ['jasmine.4.t'],\n",
       " 'Appletree': ['Erykah Badu'],\n",
       " 'Point and Kill': ['Little Simz', 'Obongjayar'],\n",
       " 'Les Fleurs': ['Minnie Riperton'],\n",
       " 'God Gave Me Feet For Dancing': ['Ezra Collective', 'Yazmin Lacey'],\n",
       " 'BIRDS OF A FEATHER': ['Billie Eilish'],\n",
       " 'Messy': ['Lola Young']}"
      ]
     },
     "execution_count": 84,
     "metadata": {},
     "output_type": "execute_result"
    }
   ],
   "source": [
    "# Parse Json response into a dictionary of track names and respective artist(s)\n",
    "names_list = [item['track']['name'] for item in tracks_req.json()['items']]\n",
    "artists_list = []\n",
    "for data in tracks_req.json()['items']:\n",
    "    artist_list = []\n",
    "    for artist_dict in data['track']['artists']:\n",
    "        artist_list.append(artist_dict['name'])\n",
    "    artists_list.append(artist_list)\n",
    "\n",
    "tracks = dict(zip(names_list, artists_list))\n",
    "\n"
   ]
  },
  {
   "cell_type": "code",
   "execution_count": 83,
   "id": "39a384f0-1764-4ede-89ac-e0eaff83acf1",
   "metadata": {},
   "outputs": [
    {
     "data": {
      "text/plain": [
       "['New Bottega',\n",
       " 'Club classics featuring bb trickz',\n",
       " 'Baddy On The Floor',\n",
       " 'Baianá',\n",
       " 'Écoute Chérie',\n",
       " 'The Adults Are Talking',\n",
       " 'We Are The People',\n",
       " 'Fine Line',\n",
       " 'Take Me To Church',\n",
       " 'Somewhere Only We Know',\n",
       " 'Rolling in the Deep',\n",
       " 'waiting room x fix you',\n",
       " \"That's Life\",\n",
       " 'Exit Music (For A Film)',\n",
       " \"Can't Take My Eyes off You\",\n",
       " 'Please, Please, Please, Let Me Get What I Want - 2011 Remaster',\n",
       " 'Fake ID (Coke & Rum Remix)',\n",
       " 'Stephanie',\n",
       " 'World, Hold On - FISHER Rework',\n",
       " 'places to be',\n",
       " 'Washing Machine Heart',\n",
       " 'Treehouse',\n",
       " 'Always Forever',\n",
       " '212',\n",
       " 'Guess featuring billie eilish',\n",
       " 'Girls',\n",
       " 'JOYRIDE',\n",
       " 'Pink Pony Club',\n",
       " \"I've Been In Love\",\n",
       " 'Unknown / Nth',\n",
       " 'One Night/All Night',\n",
       " 'Booster Seat',\n",
       " 'Adore You',\n",
       " '3 Nights',\n",
       " 'Physical',\n",
       " \"Don't Delete The Kisses\",\n",
       " \"Somethin' Stupid\",\n",
       " \"We'll Never Have Sex\",\n",
       " 'Dream A Little Dream Of Me',\n",
       " 'Sailor Song',\n",
       " 'Breather',\n",
       " 'Mutations',\n",
       " 'Challengers: Match Point',\n",
       " 'Skin On Skin',\n",
       " 'Appletree',\n",
       " 'Point and Kill',\n",
       " 'Les Fleurs',\n",
       " 'God Gave Me Feet For Dancing',\n",
       " 'BIRDS OF A FEATHER',\n",
       " 'Messy']"
      ]
     },
     "execution_count": 83,
     "metadata": {},
     "output_type": "execute_result"
    }
   ],
   "source": []
  },
  {
   "cell_type": "code",
   "execution_count": 81,
   "id": "118048df-4a47-4500-9f10-5c2b88461d1f",
   "metadata": {},
   "outputs": [
    {
     "data": {
      "text/plain": [
       "['Lola Young']"
      ]
     },
     "execution_count": 81,
     "metadata": {},
     "output_type": "execute_result"
    }
   ],
   "source": [
    "artist_list"
   ]
  },
  {
   "cell_type": "code",
   "execution_count": null,
   "id": "5f0ea052-e954-4a27-9332-642926884eb2",
   "metadata": {},
   "outputs": [],
   "source": []
  }
 ],
 "metadata": {
  "kernelspec": {
   "display_name": "Python 3 (ipykernel)",
   "language": "python",
   "name": "python3"
  },
  "language_info": {
   "codemirror_mode": {
    "name": "ipython",
    "version": 3
   },
   "file_extension": ".py",
   "mimetype": "text/x-python",
   "name": "python",
   "nbconvert_exporter": "python",
   "pygments_lexer": "ipython3",
   "version": "3.10.5"
  }
 },
 "nbformat": 4,
 "nbformat_minor": 5
}
